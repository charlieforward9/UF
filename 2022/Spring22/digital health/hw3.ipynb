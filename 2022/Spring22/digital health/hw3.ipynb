{
  "cells": [
    {
      "cell_type": "markdown",
      "source": [
        "# **Homework 3 - CIS 6930: Special Topics in CIS: Digital Health, Spring 2022**\n",
        "## Health AI\n",
        "## Deadline 11:59pm, April 5, 2022.\n",
        "#### In this assignment you will be working on Health AI practice questions similar to what you have learned through the class lecture and the tutorial. You will be responding to the instruction cells by writing (or completing) code as required. \n",
        "\n",
        "#### All your answers (code) require simple API calls. Proper Google Searches will guide you to the librarary source and the appropriate API to use. \n",
        "\n",
        "#### **All cells (questions) are worth 5 points each.**"
      ],
      "metadata": {
        "id": "opQLRABxMhWy"
      },
      "id": "opQLRABxMhWy"
    },
    {
      "cell_type": "code",
      "execution_count": null,
      "id": "00955790",
      "metadata": {
        "id": "00955790"
      },
      "outputs": [],
      "source": [
        "#Import pandas, numpy, tensorflow, matplotplib.pyplot (name them pd, np, tf, plt)"
      ]
    },
    {
      "cell_type": "code",
      "execution_count": null,
      "id": "62cfc198",
      "metadata": {
        "id": "62cfc198"
      },
      "outputs": [],
      "source": [
        "import numpy as np\n",
        "..."
      ]
    },
    {
      "cell_type": "code",
      "execution_count": null,
      "id": "e5f98154",
      "metadata": {
        "id": "e5f98154"
      },
      "outputs": [],
      "source": [
        "#Load the dataset (provided on canvas) into a variable named df using Pandas Library"
      ]
    },
    {
      "cell_type": "code",
      "execution_count": null,
      "id": "640995d9",
      "metadata": {
        "id": "640995d9"
      },
      "outputs": [],
      "source": [
        "df = ..."
      ]
    },
    {
      "cell_type": "code",
      "execution_count": null,
      "id": "81e76b4c",
      "metadata": {
        "id": "81e76b4c"
      },
      "outputs": [],
      "source": [
        "#Print the first few rows using pandas"
      ]
    },
    {
      "cell_type": "code",
      "execution_count": null,
      "id": "fb54a419",
      "metadata": {
        "id": "fb54a419"
      },
      "outputs": [],
      "source": [
        ""
      ]
    },
    {
      "cell_type": "code",
      "execution_count": null,
      "id": "cfbf5b77",
      "metadata": {
        "id": "cfbf5b77"
      },
      "outputs": [],
      "source": [
        "#Print the last few rows using pandas"
      ]
    },
    {
      "cell_type": "code",
      "execution_count": null,
      "id": "cbfd096f",
      "metadata": {
        "id": "cbfd096f"
      },
      "outputs": [],
      "source": [
        ""
      ]
    },
    {
      "cell_type": "code",
      "execution_count": null,
      "id": "5ee2d79e",
      "metadata": {
        "id": "5ee2d79e"
      },
      "outputs": [],
      "source": [
        "#Check if any label (diabetes binary) is missing using pandas \n",
        "# hint look into NaNs "
      ]
    },
    {
      "cell_type": "code",
      "execution_count": null,
      "id": "a694eef5",
      "metadata": {
        "id": "a694eef5"
      },
      "outputs": [],
      "source": [
        ""
      ]
    },
    {
      "cell_type": "code",
      "execution_count": null,
      "id": "3d64bf82",
      "metadata": {
        "id": "3d64bf82"
      },
      "outputs": [],
      "source": [
        "#Count how many missing labels using pandas"
      ]
    },
    {
      "cell_type": "code",
      "execution_count": null,
      "id": "1909d0eb",
      "metadata": {
        "id": "1909d0eb"
      },
      "outputs": [],
      "source": [
        ""
      ]
    },
    {
      "cell_type": "code",
      "execution_count": null,
      "id": "5d9faf97",
      "metadata": {
        "id": "5d9faf97"
      },
      "outputs": [],
      "source": [
        "#Drop all rows (examples/data points) with missing output (label) using pandas \n",
        "#hint: There is a function call to do this"
      ]
    },
    {
      "cell_type": "code",
      "execution_count": null,
      "id": "43e10b21",
      "metadata": {
        "id": "43e10b21"
      },
      "outputs": [],
      "source": [
        ""
      ]
    },
    {
      "cell_type": "code",
      "execution_count": null,
      "id": "de692177",
      "metadata": {
        "id": "de692177"
      },
      "outputs": [],
      "source": [
        "#Store the label (Diabetes_binary) in a variable Y using pandas"
      ]
    },
    {
      "cell_type": "code",
      "execution_count": null,
      "id": "1ff17fc2",
      "metadata": {
        "id": "1ff17fc2"
      },
      "outputs": [],
      "source": [
        "Y = ...\n",
        "\n",
        "Y"
      ]
    },
    {
      "cell_type": "code",
      "execution_count": null,
      "id": "2b177060",
      "metadata": {
        "id": "2b177060"
      },
      "outputs": [],
      "source": [
        "#Store the numerical features in num_X and the categorical features in cat_X\n",
        "#The numerical features are: BMI, MentHlth, PhysHlth\n",
        "#The rest are categorical features\n",
        "#Print it to ensure it is correct"
      ]
    },
    {
      "cell_type": "code",
      "execution_count": null,
      "id": "1659e34d",
      "metadata": {
        "id": "1659e34d"
      },
      "outputs": [],
      "source": [
        "num_X = \n",
        "print(num_X)"
      ]
    },
    {
      "cell_type": "code",
      "execution_count": null,
      "id": "5b345083",
      "metadata": {
        "id": "5b345083"
      },
      "outputs": [],
      "source": [
        "cat_X = "
      ]
    },
    {
      "cell_type": "code",
      "execution_count": null,
      "id": "69b7379e",
      "metadata": {
        "id": "69b7379e"
      },
      "outputs": [],
      "source": [
        "#Create train_catX, train_numX, test_catX, test_numX, trainy, testy using sklearn train test split (30% test)\n",
        "# Look into random states to ensure train cat_X and train num_X are split the same way (i.e, maintains relative ordering)\n",
        "# Make sure they are all numpy arrays (there is a pandas function to convert to numpy array)"
      ]
    },
    {
      "cell_type": "code",
      "execution_count": null,
      "id": "ffcb1bb2",
      "metadata": {
        "id": "ffcb1bb2"
      },
      "outputs": [],
      "source": [
        "from ... import ...\n",
        "train_catX, test_catX, trainy, testy = \n",
        "\n",
        "train_numX, test_numX, _, _ = "
      ]
    },
    {
      "cell_type": "code",
      "execution_count": null,
      "id": "e5d40cfd",
      "metadata": {
        "id": "e5d40cfd"
      },
      "outputs": [],
      "source": [
        "trainy = trainy.to_numpy().reshape(-1) #The reshape is not necessary, I did it to silence a few warnings you would get if you did not reshape it\n",
        "testy = ..."
      ]
    },
    {
      "cell_type": "code",
      "execution_count": null,
      "id": "6b98791b",
      "metadata": {
        "id": "6b98791b"
      },
      "outputs": [],
      "source": [
        "#Check if there are any missing values in numerical features using numpy \n",
        "#Hint: There is a numpy function for this"
      ]
    },
    {
      "cell_type": "code",
      "execution_count": null,
      "id": "db41e222",
      "metadata": {
        "id": "db41e222"
      },
      "outputs": [],
      "source": [
        ""
      ]
    },
    {
      "cell_type": "code",
      "execution_count": null,
      "id": "13b8db1f",
      "metadata": {
        "id": "13b8db1f"
      },
      "outputs": [],
      "source": [
        "#Replace the nan values (missing values)\n",
        "# with the average of that column using sklearn  (fit on train, apply tranform to both)\n",
        "# https://scikit-learn.org/stable/modules/generated/sklearn.impute.SimpleImputer.html"
      ]
    },
    {
      "cell_type": "code",
      "execution_count": null,
      "id": "c3a1fa11",
      "metadata": {
        "id": "c3a1fa11"
      },
      "outputs": [],
      "source": [
        ""
      ]
    },
    {
      "cell_type": "code",
      "execution_count": null,
      "id": "5686c0b3",
      "metadata": {
        "id": "5686c0b3"
      },
      "outputs": [],
      "source": [
        "# MinMax scale (normalize) the numerical features using sklearn (fit on train, apply tranform to both)\n",
        "# https://scikit-learn.org/stable/modules/generated/sklearn.preprocessing.MinMaxScaler.html"
      ]
    },
    {
      "cell_type": "code",
      "execution_count": null,
      "id": "d13bac19",
      "metadata": {
        "id": "d13bac19"
      },
      "outputs": [],
      "source": [
        ""
      ]
    },
    {
      "cell_type": "code",
      "execution_count": null,
      "id": "5d54e633",
      "metadata": {
        "id": "5d54e633"
      },
      "outputs": [],
      "source": [
        "# Select the top 2 numerical features (input numerical and output categorical) (fit on train, apply tranform to both)\n",
        "# https://scikit-learn.org/stable/modules/generated/sklearn.feature_selection.SelectKBest.html\n",
        "\n",
        "# Identify which score_func to use by viewing the below link\n",
        "# https://machinelearningmastery.com/wp-content/uploads/2019/11/How-to-Choose-Feature-Selection-Methods-For-Machine-Learning.png"
      ]
    },
    {
      "cell_type": "code",
      "execution_count": null,
      "id": "f5ede6c1",
      "metadata": {
        "id": "f5ede6c1"
      },
      "outputs": [],
      "source": [
        "from sklearn.feature_selection import SelectKBest\n",
        "skb = SelectKBest(..., k=2).fit(train_numX, trainy)\n",
        "train_numX = skb.transform(train_numX)\n",
        "test_numX = ..."
      ]
    },
    {
      "cell_type": "code",
      "execution_count": null,
      "id": "6976bc9d",
      "metadata": {
        "id": "6976bc9d"
      },
      "outputs": [],
      "source": [
        "#Check if there are any missing values in categorical features using numpy"
      ]
    },
    {
      "cell_type": "code",
      "execution_count": null,
      "id": "397d63db",
      "metadata": {
        "id": "397d63db"
      },
      "outputs": [],
      "source": [
        ""
      ]
    },
    {
      "cell_type": "code",
      "execution_count": null,
      "id": "fbc55900",
      "metadata": {
        "id": "fbc55900"
      },
      "outputs": [],
      "source": [
        "#Replace the nan values with the most frequent value of that column using sklearn"
      ]
    },
    {
      "cell_type": "code",
      "execution_count": null,
      "id": "48ef8ce3",
      "metadata": {
        "id": "48ef8ce3"
      },
      "outputs": [],
      "source": [
        ""
      ]
    },
    {
      "cell_type": "code",
      "execution_count": null,
      "id": "656f84a8",
      "metadata": {
        "id": "656f84a8"
      },
      "outputs": [],
      "source": [
        "# Select the top 10 categorical features (input categorical and output categorical)"
      ]
    },
    {
      "cell_type": "code",
      "execution_count": null,
      "id": "ddfcc0e2",
      "metadata": {
        "id": "ddfcc0e2"
      },
      "outputs": [],
      "source": [
        "from sklearn.feature_selection import ...\n",
        "skb = SelectKBest(..., k=10).fit(train_catX, trainy)\n",
        "train_catX = ...\n",
        "test_catX = ..."
      ]
    },
    {
      "cell_type": "code",
      "execution_count": null,
      "id": "a1af1602",
      "metadata": {
        "id": "a1af1602"
      },
      "outputs": [],
      "source": [
        "# Perform one-hot encoding on the categorical data (fit on train, apply tranform to both) and print the data\n",
        "# Note: We dont really need to one hot encode this data in practice. This step is just for you to learn\n",
        "# what one hot encoding is."
      ]
    },
    {
      "cell_type": "code",
      "execution_count": null,
      "id": "44da99ff",
      "metadata": {
        "id": "44da99ff"
      },
      "outputs": [],
      "source": [
        "from sklearn.preprocessing import ...\n",
        "\n",
        "enc = (sparse=False).fit(train_catX)\n",
        "train_catX = ...\n",
        "test_catX = ..."
      ]
    },
    {
      "cell_type": "code",
      "execution_count": null,
      "id": "2c77d647",
      "metadata": {
        "id": "2c77d647"
      },
      "outputs": [],
      "source": [
        "#Combine both features using numpy hstack function"
      ]
    },
    {
      "cell_type": "code",
      "execution_count": null,
      "id": "fb4bfd80",
      "metadata": {
        "id": "fb4bfd80"
      },
      "outputs": [],
      "source": [
        "trainx = \n",
        "testx = "
      ]
    },
    {
      "cell_type": "code",
      "execution_count": null,
      "id": "34de9b37",
      "metadata": {
        "id": "34de9b37"
      },
      "outputs": [],
      "source": [
        ""
      ]
    },
    {
      "cell_type": "code",
      "execution_count": null,
      "id": "4533869b",
      "metadata": {
        "id": "4533869b"
      },
      "outputs": [],
      "source": [
        "# Build/train SVC with linear kernel using sklearn, this may take forever, Try training only on subset of data\n",
        "# (use 50,000 examples)"
      ]
    },
    {
      "cell_type": "code",
      "execution_count": null,
      "id": "e09ac0b1",
      "metadata": {
        "id": "e09ac0b1"
      },
      "outputs": [],
      "source": [
        "from ... import ..."
      ]
    },
    {
      "cell_type": "code",
      "execution_count": null,
      "id": "1502350b",
      "metadata": {
        "id": "1502350b"
      },
      "outputs": [],
      "source": [
        "model = ...(kernel='linear')"
      ]
    },
    {
      "cell_type": "code",
      "execution_count": null,
      "id": "93728909",
      "metadata": {
        "id": "93728909"
      },
      "outputs": [],
      "source": [
        "model.fit(trainx[:50000], trainy[:50000])"
      ]
    },
    {
      "cell_type": "code",
      "execution_count": null,
      "id": "a9d8b196",
      "metadata": {
        "id": "a9d8b196"
      },
      "outputs": [],
      "source": [
        "# Print the score on test data (score default is accuracy, we will see the accuracy on the test set)"
      ]
    },
    {
      "cell_type": "code",
      "execution_count": null,
      "id": "10fb1061",
      "metadata": {
        "scrolled": true,
        "id": "10fb1061"
      },
      "outputs": [],
      "source": [
        "model.score(testx, testy)"
      ]
    },
    {
      "cell_type": "code",
      "execution_count": null,
      "id": "762f7803",
      "metadata": {
        "id": "762f7803"
      },
      "outputs": [],
      "source": [
        "#Get the predictions on train data"
      ]
    },
    {
      "cell_type": "code",
      "execution_count": null,
      "id": "8efaac1f",
      "metadata": {
        "id": "8efaac1f"
      },
      "outputs": [],
      "source": [
        "predy = model.predict(trainx)"
      ]
    },
    {
      "cell_type": "code",
      "execution_count": null,
      "id": "6d7806eb",
      "metadata": {
        "id": "6d7806eb"
      },
      "outputs": [],
      "source": [
        "#Plot the confusion matrix using sklearn"
      ]
    },
    {
      "cell_type": "code",
      "execution_count": null,
      "id": "ba58295f",
      "metadata": {
        "id": "ba58295f"
      },
      "outputs": [],
      "source": [
        "from ... import ...\n",
        "from sklearn.metrics import ConfusionMatrixDisplay\n",
        "\n",
        "cm = ...\n",
        "disp = ConfusionMatrixDisplay(cm)\n",
        "disp.plot()"
      ]
    },
    {
      "cell_type": "code",
      "execution_count": null,
      "id": "21064029",
      "metadata": {
        "id": "21064029"
      },
      "outputs": [],
      "source": [
        ""
      ]
    },
    {
      "cell_type": "code",
      "execution_count": null,
      "id": "5e9f1780",
      "metadata": {
        "id": "5e9f1780"
      },
      "outputs": [],
      "source": [
        "# Fill in the network with additional layers of 512, 256, 128, 64, 32 neurons"
      ]
    },
    {
      "cell_type": "code",
      "execution_count": null,
      "id": "39dd483c",
      "metadata": {
        "scrolled": true,
        "id": "39dd483c"
      },
      "outputs": [],
      "source": [
        "model = tf.keras.models.Sequential([\n",
        "    tf.keras.layers.InputLayer(input_shape=(trainx.shape[1], )), #Input Layer\n",
        "    tf.keras.layers.Dense(1024, activation='relu'),\n",
        "    tf.keras.layers.Dropout(0.2),\n",
        "\n",
        "    ...\n",
        "    \n",
        "    \n",
        "    tf.keras.layers.Dense(len(np.unique(trainy)), activation='softmax') #Output layer\n",
        "])"
      ]
    },
    {
      "cell_type": "code",
      "execution_count": null,
      "id": "b1a360fc",
      "metadata": {
        "id": "b1a360fc"
      },
      "outputs": [],
      "source": [
        "model.summary()"
      ]
    },
    {
      "cell_type": "code",
      "execution_count": null,
      "id": "6524b241",
      "metadata": {
        "id": "6524b241"
      },
      "outputs": [],
      "source": [
        "model.compile(optimizer='adam',\n",
        "              loss='sparse_categorical_crossentropy', \n",
        "              metrics=['accuracy']) "
      ]
    },
    {
      "cell_type": "code",
      "execution_count": null,
      "id": "7bb23cb7",
      "metadata": {
        "id": "7bb23cb7"
      },
      "outputs": [],
      "source": [
        "# Fit the model for 5 epochs"
      ]
    },
    {
      "cell_type": "code",
      "execution_count": null,
      "id": "e0f3869c",
      "metadata": {
        "id": "e0f3869c"
      },
      "outputs": [],
      "source": [
        "history = model ..."
      ]
    },
    {
      "cell_type": "code",
      "execution_count": null,
      "id": "e327822e",
      "metadata": {
        "id": "e327822e"
      },
      "outputs": [],
      "source": [
        "#Plot the loss history"
      ]
    },
    {
      "cell_type": "code",
      "execution_count": null,
      "id": "70b121b1",
      "metadata": {
        "id": "70b121b1"
      },
      "outputs": [],
      "source": [
        "plt.plot(history.history['loss'])\n",
        "plt.title('model loss')\n",
        "plt.ylabel('loss')\n",
        "plt.xlabel('epoch')\n",
        "plt.legend(['train', 'val'], loc='upper left')\n",
        "plt.show()"
      ]
    },
    {
      "cell_type": "code",
      "execution_count": null,
      "id": "191538ae",
      "metadata": {
        "id": "191538ae"
      },
      "outputs": [],
      "source": [
        "# Evaluate the model on test data (using tensorflow model function)"
      ]
    },
    {
      "cell_type": "code",
      "execution_count": null,
      "id": "31544d29",
      "metadata": {
        "id": "31544d29"
      },
      "outputs": [],
      "source": [
        "model.evaluate(testx, testy)"
      ]
    },
    {
      "cell_type": "code",
      "execution_count": null,
      "id": "baa1cba6",
      "metadata": {
        "id": "baa1cba6"
      },
      "outputs": [],
      "source": [
        ""
      ]
    }
  ],
  "metadata": {
    "kernelspec": {
      "display_name": "Python 3 (ipykernel)",
      "language": "python",
      "name": "python3"
    },
    "language_info": {
      "codemirror_mode": {
        "name": "ipython",
        "version": 3
      },
      "file_extension": ".py",
      "mimetype": "text/x-python",
      "name": "python",
      "nbconvert_exporter": "python",
      "pygments_lexer": "ipython3",
      "version": "3.9.6"
    },
    "colab": {
      "name": "hw3.ipynb",
      "provenance": [],
      "collapsed_sections": []
    }
  },
  "nbformat": 4,
  "nbformat_minor": 5
}