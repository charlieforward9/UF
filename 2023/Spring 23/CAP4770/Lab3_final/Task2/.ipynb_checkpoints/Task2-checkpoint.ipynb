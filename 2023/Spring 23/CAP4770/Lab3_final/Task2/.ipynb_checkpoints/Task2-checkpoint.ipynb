{
 "cells": [
  {
   "cell_type": "markdown",
   "metadata": {},
   "source": [
    "# Task2 Transfer Learning by Re-training Model \n",
    "<font color=\"red\">Instructions: please fill in marked missing codes and answer required questions. </font> \n",
    "\n",
    "In this part, you will train your custom ResNet50 model with the images in Train folder. \n",
    "\n",
    "The train folder contains 2 sub folders. The sub folder name represents the class labels, including Guardrail_Barriers and RumbleStrip. We have 50 training images for each class.\n",
    "\n",
    "If you want to use Google Colab and request its computing resources, please download the provided dataset and upload it to your Google Drive folder. Then mount the Google Drive folder to your Colab virtual machine. Please refer to the following link for details: https://colab.research.google.com/notebooks/io.ipynb"
   ]
  },
  {
   "cell_type": "code",
   "execution_count": null,
   "metadata": {},
   "outputs": [],
   "source": [
    "from keras.applications.resnet import ResNet50\n",
    "from keras.applications.resnet import preprocess_input, decode_predictions\n",
    "from keras.callbacks import ModelCheckpoint, EarlyStopping, ReduceLROnPlateau\n",
    "import numpy as np\n",
    "from keras.layers import Input,Flatten,Dense\n",
    "from keras.models import Model\n",
    "from keras.utils import np_utils\n",
    "from sklearn.utils import shuffle\n",
    "from tensorflow.keras.optimizers import Adam\n",
    "from tensorflow.keras.utils import load_img, img_to_array\n",
    "from numpy.random import seed\n",
    "seed(1234)"
   ]
  },
  {
   "cell_type": "markdown",
   "metadata": {},
   "source": [
    "# Load the training images\n",
    "Training images are stored in ~/Task2/Train Folder\n",
    "\n",
    "Guardrail_Barriers = class 0\n",
    "\n",
    "RumbleStrips = class 1"
   ]
  },
  {
   "cell_type": "code",
   "execution_count": null,
   "metadata": {},
   "outputs": [],
   "source": [
    "classLabels = dict()\n",
    "\n",
    "classLabels[0] = \"Guardrail_Barriers\"\n",
    "classLabels[1] = \"RumbleStrips\""
   ]
  },
  {
   "cell_type": "code",
   "execution_count": null,
   "metadata": {},
   "outputs": [],
   "source": [
    "import os\n",
    "X_train = []\n",
    "Y_train = []"
   ]
  },
  {
   "cell_type": "code",
   "execution_count": null,
   "metadata": {},
   "outputs": [],
   "source": [
    "# TODO: Read training images of class type 'uardrail_Barriers'.\n",
    "path_of_the_image_folder = \n",
    "# TODO Ends\n",
    "for file in os.listdir(path_of_the_image_folder):\n",
    "    img = load_img(path_of_the_image_folder+'\\\\'+file, target_size=(224, 224))\n",
    "    x = img_to_array(img)\n",
    "    x = preprocess_input(x)\n",
    "    X_train.append(x)\n",
    "    Y_train.append(0)"
   ]
  },
  {
   "cell_type": "code",
   "execution_count": null,
   "metadata": {},
   "outputs": [],
   "source": [
    "# TODO: Read images of class type 'RumbleStrips'.\n",
    "path_of_the_image_folder = \n",
    "# TODO Ends\n",
    "for file in os.listdir(path_of_the_image_folder):\n",
    "    img = load_img(path_of_the_image_folder+'\\\\'+file, target_size=(224, 224))\n",
    "    x = img_to_array(img)\n",
    "    x = preprocess_input(x)\n",
    "    X_train.append(x)\n",
    "    Y_train.append(1)\n",
    "    \n",
    "# transforming from list to array\n",
    "X_train = np.asarray(X_train)"
   ]
  },
  {
   "cell_type": "code",
   "execution_count": null,
   "metadata": {},
   "outputs": [],
   "source": [
    "# check the shape of the training array should be 100,224,224,3\n",
    "X_train.shape"
   ]
  },
  {
   "cell_type": "code",
   "execution_count": null,
   "metadata": {},
   "outputs": [],
   "source": [
    "num_classes = 2\n",
    "Y_train = np_utils.to_categorical(Y_train, num_classes)\n",
    "X_train, Y_train = shuffle(X_train, Y_train, random_state=1000)\n",
    "image_input = Input(shape=(224, 224, 3))\n",
    "model = ResNet50(input_tensor=image_input, include_top=True, weights='imagenet')"
   ]
  },
  {
   "cell_type": "code",
   "execution_count": null,
   "metadata": {},
   "outputs": [],
   "source": [
    "last_layer = model.get_layer('avg_pool').output\n",
    "\n",
    "# TODO: Implement the output layer to use ResNet50 on your own dataset.\n",
    "# Place your code here (1 line)\n",
    "out = \n",
    "# TODO Ends\n",
    "\n",
    "custom_resnet_model = Model(inputs=image_input,outputs=out)\n",
    "custom_resnet_model.summary()"
   ]
  },
  {
   "cell_type": "code",
   "execution_count": null,
   "metadata": {},
   "outputs": [],
   "source": [
    "# TODO: Complete the code below.\n",
    "# Note: In transfer learning, it is common to fix the parameters of the pre-trained model, while only training the newly added layer.\n",
    "for layer in custom_resnet_model.layers[:-1]:\n",
    "    layer.trainable = \n",
    "\n",
    "custom_resnet_model.layers[-1].trainable = \n",
    "# TODO Ends"
   ]
  },
  {
   "cell_type": "code",
   "execution_count": null,
   "metadata": {},
   "outputs": [],
   "source": [
    "# TODO: To complete the following code, select the appropriate loss function for the current classification task.\n",
    "custom_resnet_model.compile(loss=\" \",\n",
    "                            optimizer=Adam(learning_rate=0.0001),\n",
    "                            metrics=['accuracy'])\n",
    "# TODO Ends"
   ]
  },
  {
   "cell_type": "markdown",
   "metadata": {},
   "source": [
    "# Train the model with new training data"
   ]
  },
  {
   "cell_type": "code",
   "execution_count": null,
   "metadata": {
    "scrolled": true
   },
   "outputs": [],
   "source": [
    "# TODO: run custom_resnet_model.fit with training data X_train, Y_train and epochs= 150, batchsize = 16, validation split of 0.3\n",
    "# Place your code here (1 line)\n",
    "\n",
    "# TODO Ends"
   ]
  },
  {
   "cell_type": "markdown",
   "metadata": {},
   "source": [
    "# Evaluate the model using test Images\n",
    "Test images are stored in ~/Task2/Test Folder"
   ]
  },
  {
   "cell_type": "code",
   "execution_count": null,
   "metadata": {},
   "outputs": [],
   "source": [
    "# Get Test Images\n",
    "\n",
    "# TODO: Read images of class type 'Guardrail_Barriers'\n",
    "# Note: Guardrail_Barriers has class label 0\n",
    "path_of_the_image_folder = \n",
    "# TODO Ends\n",
    "\n",
    "fileNames = []\n",
    "X_test_Guardrail_Barriers = []\n",
    "for file in os.listdir(path_of_the_image_folder):\n",
    "    img = load_img(path_of_the_image_folder+'\\\\'+file, target_size=(224, 224))\n",
    "    x = img_to_array(img)\n",
    "    x = np.expand_dims(x, axis=0)\n",
    "    x = preprocess_input(x)\n",
    "    X_test_Guardrail_Barriers.append(x)\n",
    "    fileNames.append(file)\n",
    "\n",
    "X_test_Guardrail_Barriers= np.asarray(X_test_Guardrail_Barriers)"
   ]
  },
  {
   "cell_type": "code",
   "execution_count": null,
   "metadata": {},
   "outputs": [],
   "source": [
    "for i in range(0,10):\n",
    "    predicted_Guardrail_Barriers = custom_resnet_model.predict(X_test_Guardrail_Barriers[i])\n",
    "    print(fileNames[i], \"is predicted as class\",classLabels[predicted_Guardrail_Barriers.argmax()])"
   ]
  },
  {
   "cell_type": "code",
   "execution_count": null,
   "metadata": {},
   "outputs": [],
   "source": [
    "# Get Test Images\n",
    "\n",
    "# TODO: Read images of class type 'RumbleStrips'\n",
    "# Note: RumbleStrips has class label 1\n",
    "path_of_the_image_folder = \n",
    "# TODO Ends\n",
    "\n",
    "fileNames = []\n",
    "X_test_RumbleStrips = []\n",
    "for file in os.listdir(path_of_the_image_folder):\n",
    "    img = load_img(path_of_the_image_folder+'\\\\'+file, target_size=(224, 224))\n",
    "    x = img_to_array(img)\n",
    "    x = np.expand_dims(x, axis=0)\n",
    "    x = preprocess_input(x)\n",
    "    X_test_RumbleStrips.append(x)\n",
    "    fileNames.append(file)\n",
    "\n",
    "X_test_RumbleStrips= np.asarray(X_test_RumbleStrips)"
   ]
  },
  {
   "cell_type": "code",
   "execution_count": null,
   "metadata": {},
   "outputs": [],
   "source": [
    "for i in range(0,10):\n",
    "    predicted_RumbleStrips = custom_resnet_model.predict(X_test_RumbleStrips[i])\n",
    "    print(fileNames[i], \"is predicted as class\",classLabels[predicted_RumbleStrips.argmax()])"
   ]
  },
  {
   "cell_type": "markdown",
   "metadata": {},
   "source": [
    "PLEASE ANSWER THE QUESTIONS BELOW: How many of the test images were correctly classified?"
   ]
  },
  {
   "cell_type": "code",
   "execution_count": null,
   "metadata": {},
   "outputs": [],
   "source": [
    "ans = '''\n",
    "Guardrail_Barriers : x out of 10 test images were correctly classifed \\n\n",
    "RumbleStrip : x out of 10 test images were correctly classifed\n",
    "'''\n",
    "\n",
    "print(ans)"
   ]
  }
 ],
 "metadata": {
  "kernelspec": {
   "display_name": "Python 3 (ipykernel)",
   "language": "python",
   "name": "python3"
  },
  "language_info": {
   "codemirror_mode": {
    "name": "ipython",
    "version": 3
   },
   "file_extension": ".py",
   "mimetype": "text/x-python",
   "name": "python",
   "nbconvert_exporter": "python",
   "pygments_lexer": "ipython3",
   "version": "3.11.1"
  }
 },
 "nbformat": 4,
 "nbformat_minor": 2
}
